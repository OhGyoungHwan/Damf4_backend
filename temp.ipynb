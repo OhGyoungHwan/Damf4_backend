{
 "cells": [
  {
   "cell_type": "code",
   "execution_count": 1,
   "metadata": {},
   "outputs": [
    {
     "name": "stdout",
     "output_type": "stream",
     "text": [
      "[{'id': 1, 'name': '화려한 걷어내기'}, {'id': 2, 'name': '트러블 메이커'}, {'id': 3, 'name': '주발 선호'}, {}, {}, {'id': 6, 'name': '다이버'}, {'id': 7, 'name': '슬라이딩 태클 선호'}, {'id': 8, 'name': '얼리 크로스 선호'}, {}, {'id': 10, 'name': '예리한 감아차기'}, {'id': 11, 'name': '화려한 개인기'}, {'id': 12, 'name': '초 장거리 스로인'}, {'id': 13, 'name': 'GK 소극적 크로스 수비'}, {'id': 14, 'name': 'GK 적극적 크로스 수비'}, {'id': 15, 'name': 'GK 멀리 던지기'}, {'id': 16, 'name': 'GK 침착한 1:1 수비'}, {'id': 17, 'name': '선호포지션 고집'}, {'id': 18, 'name': '유리몸'}, {}, {'id': 20, 'name': '긴 패스 선호'}, {'id': 21, 'name': '중거리 슛 선호'}, {'id': 22, 'name': '장거리 스로인'}, {}, {'id': 24, 'name': '아웃사이드 슈팅/크로스'}, {'id': 25, 'name': '플레이 메이커'}, {'id': 26, 'name': '파워 헤더'}, {'id': 27, 'name': 'GK 능숙한 펀칭'}, {'id': 28, 'name': 'GK 공격 가담'}, {'id': 29, 'name': '승부욕'}, {'id': 30, 'name': '개인 플레이 선호'}, {'id': 31, 'name': '칩슛 선호'}, {'id': 32, 'name': '강철몸'}, {'id': 33, 'name': '스피드 드리블러'}, {'id': 34, 'name': '스위퍼 키퍼'}, {'id': 35, 'name': '패스 마스터'}, {}, {}, {}, {'id': 39, 'name': '테크니컬 드리블러'}, {}]\n"
     ]
    }
   ],
   "source": [
    "from bs4 import BeautifulSoup as bs\n",
    "import re\n",
    "page = open('temp.html','rt',encoding='utf-8').read()\n",
    "soup = bs('<div class=\"inputgroupflex inputroundleft\"><select name=\"trait_name[1]\" class=\"mb-3 custom-select custom-select-sm\" id=\"__BVID__48\"><option value=\"\">▾ 특성</option><option value=\"acrobatic-clearance\">화려한 걷어내기</option><option value=\"argues-with-officials\">트러블 메이커</option><option value=\"avoids-using-weaker-foot\">주발 선호</option><option value=\"backs-into-player\">Backs into Player (Hidden)</option><option value=\"corner-specialist\">Corner Specialist (Hidden)</option><option value=\"diver\">다이버</option><option value=\"dives-into-tackles\">슬라이딩 태클 선호</option><option value=\"early-crosser\">얼리 크로스 선호</option><option value=\"finesse-free-kick\">Finesse Free Kick (Hidden)</option><option value=\"finesse-shot\">예리한 감아차기</option><option value=\"flair\">화려한 개인기</option><option value=\"giant-throw-in\">초 장거리 스로인</option><option value=\"gk-cautious-with-crosses\">GK 소극적 크로스 수비</option><option value=\"gk-comes-for-crosses\">GK 적극적 크로스 수비</option><option value=\"gk-long-thrower\">GK 멀리 던지기</option><option value=\"gk-one-on-ones\">GK 침착한 1:1 수비</option><option value=\"inflexibility\">선호포지션 고집</option><option value=\"injury-prone\">유리몸</option><option value=\"leadership\">Leadership (Hidden)</option><option value=\"long-passer\">긴 패스 선호</option><option value=\"long-shot-taker\">중거리 슛 선호</option><option value=\"long-throw-in\">장거리 스로인</option><option value=\"one-club-player\">One Club Player (Hidden)</option><option value=\"outside-foot-shot\">아웃사이드 슈팅/크로스</option><option value=\"play-maker\">플레이 메이커</option><option value=\"power-header\">파워 헤더</option><option value=\"puncher\">GK 능숙한 펀칭</option><option value=\"pushes-up-for-corners\">GK 공격 가담</option><option value=\"second-wind\">승부욕</option><option value=\"selfish\">개인 플레이 선호</option><option value=\"shooting-chip-shot\">칩슛 선호</option><option value=\"solid-player\">강철몸</option><option value=\"speed-dribbler\">스피드 드리블러</option><option value=\"sweeper-keeper\">스위퍼 키퍼</option><option value=\"swerve\">패스 마스터</option><option value=\"takes-powerful-driven-free-kicks\">Powerful driven free kicks (Hidden)</option><option value=\"target-forward\">Target Forward (Hidden)</option><option value=\"team-player\">Team Player (Hidden)</option><option value=\"technical-dribbler\">테크니컬 드리블러</option><option value=\"tries-to-beat-offside-trap\">Tries To Beat Offside Trap (Hidden)</option></select><div class=\"btnwrap\"><span class=\"btn btn-sm btn-success btn-add\"></span><!----></div></div>',\"'html.parser')\n",
    "\n",
    "player_dict_list = []\n",
    "\n",
    "elements = soup.find_all(\"option\")\n",
    "for element_key in range(1,\"len(elements)):\n",
    "    tempdict = {}\n",
    "    if re.compile('[가-힝+]').findall(elements[element_key].text):\n",
    "        tempdict[\"id\"] = element_key\n",
    "        tempdict[\"name\"] = elements[element_key].text\n",
    "    player_dict_list.append(tempdict)\n",
    "print(player_dict_list)"
   ]
  },
  {
   "cell_type": "code",
   "execution_count": 8,
   "metadata": {},
   "outputs": [],
   "source": [
    "from PIL import Image\n",
    "\n",
    "import os\n",
    "\n",
    "path = \"D:/fifa4sim/public/players\"\n",
    "file_list = os.listdir(path)\n",
    "\n",
    "for i in file_list:\n",
    "    im = Image.open(path+\"/\"+i).convert('RGBA')\n",
    "    im.save((path+\"/\"+i).replace('png','webp'), 'webp')"
   ]
  },
  {
   "cell_type": "code",
   "execution_count": 1,
   "metadata": {},
   "outputs": [
    {
     "name": "stdout",
     "output_type": "stream",
     "text": [
      "===DB 연결완료===\n"
     ]
    }
   ],
   "source": [
    "import requests\n",
    "import re\n",
    "from bs4 import BeautifulSoup as bs\n",
    "import pandas as pd\n",
    "import time\n",
    "import asyncio\n",
    "from functools import partial\n",
    "import pymongo\n",
    "import json\n",
    "import os\n",
    "from PIL import Image\n",
    "\n",
    "import os\n",
    "\n",
    "path = \"D:/dampi/public/players\"\n",
    "file_list = os.listdir(path)\n",
    "\n",
    "path2 = \"D:/dampi/public/playersAction\"\n",
    "file_list2 = os.listdir(path2)\n",
    "\n",
    "conn = pymongo.MongoClient(\"mongodb://localhost:27017\")\n",
    "db = conn.get_database(\"fifa4sim\")\n",
    "coll = db.get_collection(\"players\")\n",
    "print(\"===DB 연결완료===\")\n",
    "for doc in coll.find():\n",
    "    if \"p\"+str(doc[\"_id\"])+\".webp\" in file_list2:\n",
    "        coll.update_one(\n",
    "            {\"_id\": doc[\"_id\"]},\n",
    "            {\n",
    "                \"$set\": {\n",
    "                    \"imgsrc\": \"playersAction/p\"+str(doc[\"_id\"])+\".webp\"\n",
    "                }\n",
    "            },\n",
    "        )\n",
    "    elif \"p\"+str(doc[\"pid\"])+\".webp\" in file_list:\n",
    "        coll.update_one(\n",
    "            {\"_id\": doc[\"_id\"]},\n",
    "            {\n",
    "                \"$set\": {\n",
    "                    \"imgsrc\": \"players/p\"+str(doc[\"pid\"])+\".webp\"\n",
    "                }\n",
    "            },\n",
    "        )\n",
    "    else:\n",
    "        coll.update_one(\n",
    "            {\"_id\": doc[\"_id\"]},\n",
    "            {\n",
    "                \"$set\": {\n",
    "                    \"imgsrc\": \"players/not_found.webp\"\n",
    "                }\n",
    "            },\n",
    "        )"
   ]
  },
  {
   "cell_type": "code",
   "execution_count": 2,
   "metadata": {},
   "outputs": [
    {
     "ename": "HTTPError",
     "evalue": "HTTP Error 403: Forbidden",
     "output_type": "error",
     "traceback": [
      "\u001b[1;31m---------------------------------------------------------------------------\u001b[0m",
      "\u001b[1;31mHTTPError\u001b[0m                                 Traceback (most recent call last)",
      "Cell \u001b[1;32mIn[2], line 13\u001b[0m\n\u001b[0;32m     12\u001b[0m \u001b[39mtry\u001b[39;00m:\n\u001b[1;32m---> 13\u001b[0m     urllib\u001b[39m.\u001b[39;49mrequest\u001b[39m.\u001b[39;49murlretrieve(Action_url, \u001b[39mf\u001b[39;49m\u001b[39m'\u001b[39;49m\u001b[39m./playersAction/\u001b[39;49m\u001b[39m{\u001b[39;49;00mspid\u001b[39m}\u001b[39;49;00m\u001b[39m.png\u001b[39;49m\u001b[39m'\u001b[39;49m)\n\u001b[0;32m     14\u001b[0m \u001b[39mexcept\u001b[39;00m:\n",
      "File \u001b[1;32mc:\\Users\\rudgh\\AppData\\Local\\Programs\\Python\\Python39\\lib\\urllib\\request.py:239\u001b[0m, in \u001b[0;36murlretrieve\u001b[1;34m(url, filename, reporthook, data)\u001b[0m\n\u001b[0;32m    237\u001b[0m url_type, path \u001b[39m=\u001b[39m _splittype(url)\n\u001b[1;32m--> 239\u001b[0m \u001b[39mwith\u001b[39;00m contextlib\u001b[39m.\u001b[39mclosing(urlopen(url, data)) \u001b[39mas\u001b[39;00m fp:\n\u001b[0;32m    240\u001b[0m     headers \u001b[39m=\u001b[39m fp\u001b[39m.\u001b[39minfo()\n",
      "File \u001b[1;32mc:\\Users\\rudgh\\AppData\\Local\\Programs\\Python\\Python39\\lib\\urllib\\request.py:214\u001b[0m, in \u001b[0;36murlopen\u001b[1;34m(url, data, timeout, cafile, capath, cadefault, context)\u001b[0m\n\u001b[0;32m    213\u001b[0m     opener \u001b[39m=\u001b[39m _opener\n\u001b[1;32m--> 214\u001b[0m \u001b[39mreturn\u001b[39;00m opener\u001b[39m.\u001b[39;49mopen(url, data, timeout)\n",
      "File \u001b[1;32mc:\\Users\\rudgh\\AppData\\Local\\Programs\\Python\\Python39\\lib\\urllib\\request.py:523\u001b[0m, in \u001b[0;36mOpenerDirector.open\u001b[1;34m(self, fullurl, data, timeout)\u001b[0m\n\u001b[0;32m    522\u001b[0m     meth \u001b[39m=\u001b[39m \u001b[39mgetattr\u001b[39m(processor, meth_name)\n\u001b[1;32m--> 523\u001b[0m     response \u001b[39m=\u001b[39m meth(req, response)\n\u001b[0;32m    525\u001b[0m \u001b[39mreturn\u001b[39;00m response\n",
      "File \u001b[1;32mc:\\Users\\rudgh\\AppData\\Local\\Programs\\Python\\Python39\\lib\\urllib\\request.py:632\u001b[0m, in \u001b[0;36mHTTPErrorProcessor.http_response\u001b[1;34m(self, request, response)\u001b[0m\n\u001b[0;32m    631\u001b[0m \u001b[39mif\u001b[39;00m \u001b[39mnot\u001b[39;00m (\u001b[39m200\u001b[39m \u001b[39m<\u001b[39m\u001b[39m=\u001b[39m code \u001b[39m<\u001b[39m \u001b[39m300\u001b[39m):\n\u001b[1;32m--> 632\u001b[0m     response \u001b[39m=\u001b[39m \u001b[39mself\u001b[39;49m\u001b[39m.\u001b[39;49mparent\u001b[39m.\u001b[39;49merror(\n\u001b[0;32m    633\u001b[0m         \u001b[39m'\u001b[39;49m\u001b[39mhttp\u001b[39;49m\u001b[39m'\u001b[39;49m, request, response, code, msg, hdrs)\n\u001b[0;32m    635\u001b[0m \u001b[39mreturn\u001b[39;00m response\n",
      "File \u001b[1;32mc:\\Users\\rudgh\\AppData\\Local\\Programs\\Python\\Python39\\lib\\urllib\\request.py:561\u001b[0m, in \u001b[0;36mOpenerDirector.error\u001b[1;34m(self, proto, *args)\u001b[0m\n\u001b[0;32m    560\u001b[0m args \u001b[39m=\u001b[39m (\u001b[39mdict\u001b[39m, \u001b[39m'\u001b[39m\u001b[39mdefault\u001b[39m\u001b[39m'\u001b[39m, \u001b[39m'\u001b[39m\u001b[39mhttp_error_default\u001b[39m\u001b[39m'\u001b[39m) \u001b[39m+\u001b[39m orig_args\n\u001b[1;32m--> 561\u001b[0m \u001b[39mreturn\u001b[39;00m \u001b[39mself\u001b[39;49m\u001b[39m.\u001b[39;49m_call_chain(\u001b[39m*\u001b[39;49margs)\n",
      "File \u001b[1;32mc:\\Users\\rudgh\\AppData\\Local\\Programs\\Python\\Python39\\lib\\urllib\\request.py:494\u001b[0m, in \u001b[0;36mOpenerDirector._call_chain\u001b[1;34m(self, chain, kind, meth_name, *args)\u001b[0m\n\u001b[0;32m    493\u001b[0m func \u001b[39m=\u001b[39m \u001b[39mgetattr\u001b[39m(handler, meth_name)\n\u001b[1;32m--> 494\u001b[0m result \u001b[39m=\u001b[39m func(\u001b[39m*\u001b[39;49margs)\n\u001b[0;32m    495\u001b[0m \u001b[39mif\u001b[39;00m result \u001b[39mis\u001b[39;00m \u001b[39mnot\u001b[39;00m \u001b[39mNone\u001b[39;00m:\n",
      "File \u001b[1;32mc:\\Users\\rudgh\\AppData\\Local\\Programs\\Python\\Python39\\lib\\urllib\\request.py:641\u001b[0m, in \u001b[0;36mHTTPDefaultErrorHandler.http_error_default\u001b[1;34m(self, req, fp, code, msg, hdrs)\u001b[0m\n\u001b[0;32m    640\u001b[0m \u001b[39mdef\u001b[39;00m \u001b[39mhttp_error_default\u001b[39m(\u001b[39mself\u001b[39m, req, fp, code, msg, hdrs):\n\u001b[1;32m--> 641\u001b[0m     \u001b[39mraise\u001b[39;00m HTTPError(req\u001b[39m.\u001b[39mfull_url, code, msg, hdrs, fp)\n",
      "\u001b[1;31mHTTPError\u001b[0m: HTTP Error 403: Forbidden",
      "\nDuring handling of the above exception, another exception occurred:\n",
      "\u001b[1;31mHTTPError\u001b[0m                                 Traceback (most recent call last)",
      "Cell \u001b[1;32mIn[2], line 15\u001b[0m\n\u001b[0;32m     13\u001b[0m     urllib\u001b[39m.\u001b[39mrequest\u001b[39m.\u001b[39murlretrieve(Action_url, \u001b[39mf\u001b[39m\u001b[39m'\u001b[39m\u001b[39m./playersAction/\u001b[39m\u001b[39m{\u001b[39;00mspid\u001b[39m}\u001b[39;00m\u001b[39m.png\u001b[39m\u001b[39m'\u001b[39m)\n\u001b[0;32m     14\u001b[0m \u001b[39mexcept\u001b[39;00m:\n\u001b[1;32m---> 15\u001b[0m     urllib\u001b[39m.\u001b[39;49mrequest\u001b[39m.\u001b[39;49murlretrieve(url, \u001b[39mf\u001b[39;49m\u001b[39m'\u001b[39;49m\u001b[39m./playersAction/\u001b[39;49m\u001b[39m{\u001b[39;49;00mpid\u001b[39m}\u001b[39;49;00m\u001b[39m.png\u001b[39;49m\u001b[39m'\u001b[39;49m)\n",
      "File \u001b[1;32mc:\\Users\\rudgh\\AppData\\Local\\Programs\\Python\\Python39\\lib\\urllib\\request.py:239\u001b[0m, in \u001b[0;36murlretrieve\u001b[1;34m(url, filename, reporthook, data)\u001b[0m\n\u001b[0;32m    222\u001b[0m \u001b[39m\"\"\"\u001b[39;00m\n\u001b[0;32m    223\u001b[0m \u001b[39mRetrieve a URL into a temporary location on disk.\u001b[39;00m\n\u001b[0;32m    224\u001b[0m \n\u001b[1;32m   (...)\u001b[0m\n\u001b[0;32m    235\u001b[0m \u001b[39mdata file as well as the resulting HTTPMessage object.\u001b[39;00m\n\u001b[0;32m    236\u001b[0m \u001b[39m\"\"\"\u001b[39;00m\n\u001b[0;32m    237\u001b[0m url_type, path \u001b[39m=\u001b[39m _splittype(url)\n\u001b[1;32m--> 239\u001b[0m \u001b[39mwith\u001b[39;00m contextlib\u001b[39m.\u001b[39mclosing(urlopen(url, data)) \u001b[39mas\u001b[39;00m fp:\n\u001b[0;32m    240\u001b[0m     headers \u001b[39m=\u001b[39m fp\u001b[39m.\u001b[39minfo()\n\u001b[0;32m    242\u001b[0m     \u001b[39m# Just return the local path and the \"headers\" for file://\u001b[39;00m\n\u001b[0;32m    243\u001b[0m     \u001b[39m# URLs. No sense in performing a copy unless requested.\u001b[39;00m\n",
      "File \u001b[1;32mc:\\Users\\rudgh\\AppData\\Local\\Programs\\Python\\Python39\\lib\\urllib\\request.py:214\u001b[0m, in \u001b[0;36murlopen\u001b[1;34m(url, data, timeout, cafile, capath, cadefault, context)\u001b[0m\n\u001b[0;32m    212\u001b[0m \u001b[39melse\u001b[39;00m:\n\u001b[0;32m    213\u001b[0m     opener \u001b[39m=\u001b[39m _opener\n\u001b[1;32m--> 214\u001b[0m \u001b[39mreturn\u001b[39;00m opener\u001b[39m.\u001b[39;49mopen(url, data, timeout)\n",
      "File \u001b[1;32mc:\\Users\\rudgh\\AppData\\Local\\Programs\\Python\\Python39\\lib\\urllib\\request.py:523\u001b[0m, in \u001b[0;36mOpenerDirector.open\u001b[1;34m(self, fullurl, data, timeout)\u001b[0m\n\u001b[0;32m    521\u001b[0m \u001b[39mfor\u001b[39;00m processor \u001b[39min\u001b[39;00m \u001b[39mself\u001b[39m\u001b[39m.\u001b[39mprocess_response\u001b[39m.\u001b[39mget(protocol, []):\n\u001b[0;32m    522\u001b[0m     meth \u001b[39m=\u001b[39m \u001b[39mgetattr\u001b[39m(processor, meth_name)\n\u001b[1;32m--> 523\u001b[0m     response \u001b[39m=\u001b[39m meth(req, response)\n\u001b[0;32m    525\u001b[0m \u001b[39mreturn\u001b[39;00m response\n",
      "File \u001b[1;32mc:\\Users\\rudgh\\AppData\\Local\\Programs\\Python\\Python39\\lib\\urllib\\request.py:632\u001b[0m, in \u001b[0;36mHTTPErrorProcessor.http_response\u001b[1;34m(self, request, response)\u001b[0m\n\u001b[0;32m    629\u001b[0m \u001b[39m# According to RFC 2616, \"2xx\" code indicates that the client's\u001b[39;00m\n\u001b[0;32m    630\u001b[0m \u001b[39m# request was successfully received, understood, and accepted.\u001b[39;00m\n\u001b[0;32m    631\u001b[0m \u001b[39mif\u001b[39;00m \u001b[39mnot\u001b[39;00m (\u001b[39m200\u001b[39m \u001b[39m<\u001b[39m\u001b[39m=\u001b[39m code \u001b[39m<\u001b[39m \u001b[39m300\u001b[39m):\n\u001b[1;32m--> 632\u001b[0m     response \u001b[39m=\u001b[39m \u001b[39mself\u001b[39;49m\u001b[39m.\u001b[39;49mparent\u001b[39m.\u001b[39;49merror(\n\u001b[0;32m    633\u001b[0m         \u001b[39m'\u001b[39;49m\u001b[39mhttp\u001b[39;49m\u001b[39m'\u001b[39;49m, request, response, code, msg, hdrs)\n\u001b[0;32m    635\u001b[0m \u001b[39mreturn\u001b[39;00m response\n",
      "File \u001b[1;32mc:\\Users\\rudgh\\AppData\\Local\\Programs\\Python\\Python39\\lib\\urllib\\request.py:561\u001b[0m, in \u001b[0;36mOpenerDirector.error\u001b[1;34m(self, proto, *args)\u001b[0m\n\u001b[0;32m    559\u001b[0m \u001b[39mif\u001b[39;00m http_err:\n\u001b[0;32m    560\u001b[0m     args \u001b[39m=\u001b[39m (\u001b[39mdict\u001b[39m, \u001b[39m'\u001b[39m\u001b[39mdefault\u001b[39m\u001b[39m'\u001b[39m, \u001b[39m'\u001b[39m\u001b[39mhttp_error_default\u001b[39m\u001b[39m'\u001b[39m) \u001b[39m+\u001b[39m orig_args\n\u001b[1;32m--> 561\u001b[0m     \u001b[39mreturn\u001b[39;00m \u001b[39mself\u001b[39;49m\u001b[39m.\u001b[39;49m_call_chain(\u001b[39m*\u001b[39;49margs)\n",
      "File \u001b[1;32mc:\\Users\\rudgh\\AppData\\Local\\Programs\\Python\\Python39\\lib\\urllib\\request.py:494\u001b[0m, in \u001b[0;36mOpenerDirector._call_chain\u001b[1;34m(self, chain, kind, meth_name, *args)\u001b[0m\n\u001b[0;32m    492\u001b[0m \u001b[39mfor\u001b[39;00m handler \u001b[39min\u001b[39;00m handlers:\n\u001b[0;32m    493\u001b[0m     func \u001b[39m=\u001b[39m \u001b[39mgetattr\u001b[39m(handler, meth_name)\n\u001b[1;32m--> 494\u001b[0m     result \u001b[39m=\u001b[39m func(\u001b[39m*\u001b[39;49margs)\n\u001b[0;32m    495\u001b[0m     \u001b[39mif\u001b[39;00m result \u001b[39mis\u001b[39;00m \u001b[39mnot\u001b[39;00m \u001b[39mNone\u001b[39;00m:\n\u001b[0;32m    496\u001b[0m         \u001b[39mreturn\u001b[39;00m result\n",
      "File \u001b[1;32mc:\\Users\\rudgh\\AppData\\Local\\Programs\\Python\\Python39\\lib\\urllib\\request.py:641\u001b[0m, in \u001b[0;36mHTTPDefaultErrorHandler.http_error_default\u001b[1;34m(self, req, fp, code, msg, hdrs)\u001b[0m\n\u001b[0;32m    640\u001b[0m \u001b[39mdef\u001b[39;00m \u001b[39mhttp_error_default\u001b[39m(\u001b[39mself\u001b[39m, req, fp, code, msg, hdrs):\n\u001b[1;32m--> 641\u001b[0m     \u001b[39mraise\u001b[39;00m HTTPError(req\u001b[39m.\u001b[39mfull_url, code, msg, hdrs, fp)\n",
      "\u001b[1;31mHTTPError\u001b[0m: HTTP Error 403: Forbidden"
     ]
    }
   ],
   "source": [
    "import json\n",
    "import urllib.request\n",
    "\n",
    "with open(\"playerlist.json\", encoding=\"UTF-8\") as f:\n",
    "    players = json.load(f)\n",
    "\n",
    "for player in players[50000:]:\n",
    "    spid = player[\"id\"]\n",
    "    pid = spid % 1000000\n",
    "    Action_url = f\"https://fo4.dn.nexoncdn.co.kr/live/externalAssets/common/playersAction/p{spid}.png\"\n",
    "    url = f'https://fo4.dn.nexoncdn.co.kr/live/externalAssets/common/players/p{pid}png'\n",
    "    try:\n",
    "        urllib.request.urlretrieve(Action_url, f'./playersAction/{spid}.png')\n",
    "    except:\n",
    "        urllib.request.urlretrieve(url, f'./playersAction/{pid}.png')"
   ]
  }
 ],
 "metadata": {
  "kernelspec": {
   "display_name": "Python 3",
   "language": "python",
   "name": "python3"
  },
  "language_info": {
   "codemirror_mode": {
    "name": "ipython",
    "version": 3
   },
   "file_extension": ".py",
   "mimetype": "text/x-python",
   "name": "python",
   "nbconvert_exporter": "python",
   "pygments_lexer": "ipython3",
   "version": "3.9.13"
  },
  "orig_nbformat": 4,
  "vscode": {
   "interpreter": {
    "hash": "94c0f7e0d693d226c84bb4d5a64add886c534156ba90ea1e611147d4a4c128aa"
   }
  }
 },
 "nbformat": 4,
 "nbformat_minor": 2
}
